{
 "cells": [
  {
   "cell_type": "code",
   "execution_count": 1,
   "id": "8a7d779c-b52a-4bab-bd84-915de4d1a96e",
   "metadata": {},
   "outputs": [
    {
     "data": {
      "text/plain": "1980  h0001     86.255441\n      h0002     88.136690\n      h0003     89.460727\n      h0004     93.152194\n      h0005    100.754412\n                  ...    \n2019  h8756     88.076780\n      h8757     76.828800\n      h8758     69.671389\n      h8759     66.612360\n      h8760     65.359772\nLength: 350640, dtype: float64"
     },
     "execution_count": 1,
     "metadata": {},
     "output_type": "execute_result"
    }
   ],
   "source": [
    "import pickle\n",
    "import math\n",
    "import pandas as pd\n",
    "import numpy as np\n",
    "from my_utils import print_red, print_cyan, print_green\n",
    "\n",
    "\"\"\"\n",
    "Inputs:\n",
    "df of net load\n",
    "\n",
    "Outputs:\n",
    "CFD plot and VRE event df for fingerprint matching\n",
    "\"\"\"\n",
    "\n",
    "data = pickle.load(open(\"PickleJar\\\\netload_components_1980-2019.pickle\",\"rb\"))\n",
    "VRE_profiles = data[\"VRE_profiles\"]\n",
    "load = data[\"load\"]\n",
    "cap = data[\"cap\"]\n",
    "#VRE_profiles\n",
    "#load\n",
    "#cap\n",
    "load_list = []\n",
    "for year, load in load.items(): \n",
    "    load_list += list(load)\n",
    "load = np.array(load_list)\n",
    "net_load = -(VRE_profiles*cap).sum(axis=1) + load\n",
    "net_load"
   ]
  },
  {
   "cell_type": "code",
   "execution_count": 2,
   "id": "38a8a6d5-b15a-48dc-b02a-ec87a17fc74a",
   "metadata": {},
   "outputs": [
    {
     "name": "stdout",
     "output_type": "stream",
     "text": [
      "              net load  count1  count2\n",
      "1980 h0001   86.255441       0       0\n",
      "     h0002   88.136690       0       0\n",
      "     h0003   89.460727       0       0\n",
      "     h0004   93.152194       0       0\n",
      "     h0005  100.754412       0       0\n",
      "...                ...     ...     ...\n",
      "2019 h8756   88.076780       0       0\n",
      "     h8757   76.828800       0       0\n",
      "     h8758   69.671389       0       0\n",
      "     h8759   66.612360       0       0\n",
      "     h8760   65.359772       0       0\n",
      "\n",
      "[350640 rows x 3 columns] -197 201\n"
     ]
    }
   ],
   "source": [
    "#net_load=((-1)*df_disp['bat_ch'])\n",
    "#net_load=(df_disp['WG_peak'])\n",
    "d = {'net load': net_load,'count1':0,'count2':0}\n",
    "df_netload = pd.DataFrame(data=d)\n",
    "#maxind, maxval = max(net_load, key=lambda item: item[1])\n",
    "maxval=int(math.ceil(net_load.max()))\n",
    "minval=int(math.floor(net_load.min()))\n",
    "amps = np.arange(minval, maxval, 0.1).tolist()\n",
    "print(df_netload, minval,maxval)"
   ]
  },
  {
   "cell_type": "code",
   "execution_count": null,
   "id": "f130bd58-be65-45a9-a43a-0111c565447a",
   "metadata": {
    "tags": [],
    "pycharm": {
     "is_executing": true
    }
   },
   "outputs": [],
   "source": [
    "#kolla på diffen av detta\n",
    "df_freq = pd.DataFrame()\n",
    "output = {}\n",
    "dfrows=df_netload.index\n",
    "#net_loads_array = np.array(df_netload.values)\n",
    "for amp in amps:\n",
    "    d = {'net load': net_load,'count1':0,'count2':0}\n",
    "    df_netload = pd.DataFrame(data=d)\n",
    "    s=[]\n",
    "    rowbefore=dfrows[0]\n",
    "#ökande siffra när värde över amp\n",
    "    for i_r, row in enumerate(dfrows):\n",
    "        net_load_val = df_netload.at[row,'net load']\n",
    "        amp_positive = amp>=0\n",
    "        amp_negative = amp<0\n",
    "        netload_greater_than_amp = net_load_val>=amp\n",
    "        netload_smaller_than_amp = net_load_val<amp\n",
    "        if amp_positive and netload_greater_than_amp:\n",
    "#            df_netload.set_value(row, 'count1', df_netload.at[rowbefore,'count1']+1)\n",
    "            df_netload.at[row, 'count1']= df_netload.at[rowbefore,'count1']+1\n",
    "        elif amp_negative and netload_smaller_than_amp:\n",
    "#            df_netload.set_value(row, 'count1', df_netload.at[rowbefore,'count1']+1)\n",
    "            df_netload.at[row, 'count1']= df_netload.at[rowbefore,'count1']+1\n",
    "        rowbefore=row\n",
    "#varje periods längd vid sluttillfället\n",
    "        if amp >0 and df_netload.at[rowbefore,'net load']>amp and df_netload.at[row,'net load']<amp:\n",
    "#            df_netload.set_value(rowbefore, 'count2', df_netload.at[rowbefore,'count1'])\n",
    "            df_netload.at[rowbefore, 'count2']= df_netload.at[rowbefore,'count1']\n",
    "        elif amp<0 and df_netload.at[rowbefore,'net load']<amp and df_netload.at[row,'net load']>amp:\n",
    "#            df_netload.set_value(rowbefore, 'count2', df_netload.at[rowbefore,'count1'])\n",
    "            df_netload.at[rowbefore, 'count2']= df_netload.at[rowbefore,'count1']\n",
    "        rowbefore=row\n",
    "        \n",
    "    s=df_netload.count2.value_counts() \n",
    "    df_freq=pd.DataFrame(data=s)\n",
    "#    s_form=list(s)\n",
    "    output[amp]=df_freq\n",
    "\n",
    "\n",
    "#df_out=pd.DataFrame(data=output, index=[amp])\n",
    "df_out = pd.DataFrame()\n",
    "df_out_tot = pd.DataFrame()\n",
    "output2 = {}\n",
    "for amp in amps:\n",
    "    df_out = output[amp] \n",
    "    df_out = df_out.iloc[1:]\n",
    "    df_out.index.name = 'Duration'\n",
    "    df_out = pd.concat([df_out], keys=[amp], names=['Amplitude'])\n",
    "    df_out.rename(columns={'count2':'Occurences'}, inplace=True)\n",
    "    df_out_tot=df_out_tot.append(df_out)\n",
    "#    output2[amp] = df_out\n",
    "#df_out[0]\n",
    "df_out_tot"
   ]
  },
  {
   "cell_type": "code",
   "execution_count": null,
   "id": "ea5b2713-5d4a-4481-8bdb-9d6e2da72b28",
   "metadata": {
    "pycharm": {
     "is_executing": true
    }
   },
   "outputs": [],
   "source": [
    "df_reset = df_out_tot.reset_index()\n",
    "df_reset.columns = ['Amplitude', 'Duration', 'Occurrence']\n",
    "df_pivot=df_reset.pivot('Amplitude', 'Duration')\n",
    "\n",
    "X=df_pivot.columns.levels[1].values\n",
    "Y=df_pivot.index.values\n",
    "Z=df_pivot.values\n",
    "#df1['A'] = df1['A'].apply(lambda x: [y if y <= 9 else 11 for y in x])\n",
    "Z_BAT=np.where(Z > 50, 50, Z)\n",
    "X_BAT,Y_BAT = np.meshgrid(X, Y)\n"
   ]
  },
  {
   "cell_type": "code",
   "execution_count": null,
   "id": "0b2a677d-16b1-45dc-9018-a8006faecf28",
   "metadata": {
    "pycharm": {
     "is_executing": true
    }
   },
   "outputs": [],
   "source": [
    "plt.contourf(Ynetload, Xnetload, Znetload, alpha=0.7, cmap=plt.cm.jet);\n",
    "plt.show()"
   ]
  },
  {
   "cell_type": "code",
   "execution_count": null,
   "id": "c98f7d15-c439-4707-af03-ac7a1fcb7944",
   "metadata": {
    "pycharm": {
     "is_executing": true
    }
   },
   "outputs": [],
   "source": []
  },
  {
   "cell_type": "code",
   "execution_count": null,
   "id": "7ea28066",
   "metadata": {
    "pycharm": {
     "is_executing": true
    }
   },
   "outputs": [],
   "source": []
  }
 ],
 "metadata": {
  "kernelspec": {
   "display_name": "Python 3",
   "language": "python",
   "name": "python3"
  },
  "language_info": {
   "codemirror_mode": {
    "name": "ipython",
    "version": 3
   },
   "file_extension": ".py",
   "mimetype": "text/x-python",
   "name": "python",
   "nbconvert_exporter": "python",
   "pygments_lexer": "ipython3",
   "version": "3.6.13"
  }
 },
 "nbformat": 4,
 "nbformat_minor": 5
}