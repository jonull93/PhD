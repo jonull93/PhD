{
 "cells": [
  {
   "cell_type": "code",
   "execution_count": 6,
   "id": "8a7d779c-b52a-4bab-bd84-915de4d1a96e",
   "metadata": {},
   "outputs": [
    {
     "name": "stdout",
     "output_type": "stream",
     "text": [
      "dict_keys(['VRE_profiles', 'cap', 'load', 'non_traditional_load'])\n",
      "(350640, 120) (350640,) (53,)\n"
     ]
    }
   ],
   "source": [
    "import os\n",
    "import pickle\n",
    "import math\n",
    "import pandas as pd\n",
    "import numpy as np\n",
    "import matplotlib.pyplot as plt\n",
    "from timeit import default_timer as timer\n",
    "from my_utils import print_red, print_cyan, print_green, fast_rolling_average\n",
    "os.system(\"\")\n",
    "\"\"\"\n",
    "Inputs:\n",
    "df of net load\n",
    "\n",
    "Outputs:\n",
    "CFD plot and VRE event df for fingerprint matching\n",
    "\"\"\"\n",
    "\n",
    "def fast_cfd(df_netload, amp_length = 0.1):\n",
    "    df_freq = pd.DataFrame()\n",
    "    output = {}\n",
    "    dfrows=df_netload.index\n",
    "    print(\"index = \",dfrows)\n",
    "    net_loads_array = np.array(df_netload[\"net load\"].values)\n",
    "    print(\"vals = \",net_loads_array)\n",
    "    print(\"len of vals = \",len(net_loads_array))\n",
    "    amps = np.arange(minval, maxval, amp_length).tolist()\n",
    "    print(\"length of amps:\",len(amps))\n",
    "    start_time = timer()\n",
    "    for amp in amps:\n",
    "        # initiate variables before row loop\n",
    "        d = {'net load': net_load,'count1':0,'count2':0}\n",
    "        df_netload = pd.DataFrame(data=d)\n",
    "        previous_row = dfrows[0]\n",
    "        previous_net_load_val = net_loads_array[0]\n",
    "        amp_positive = amp>=0\n",
    "        amp_negative = not amp_positive\n",
    "        for i_r, row in enumerate(dfrows):\n",
    "            #net_load_val = df_netload.at[row,'net load']\n",
    "            net_load_val = net_loads_array[i_r]\n",
    "            netload_greater_than_amp = net_load_val>=amp\n",
    "            netload_smaller_than_amp = not netload_greater_than_amp\n",
    "            previous_netload_greater_than_amp = previous_net_load_val>=amp\n",
    "            previous_netload_smaller_than_amp = not previous_netload_greater_than_amp\n",
    "            # both count1 and count2 are related to the duration of events\n",
    "            if amp_positive and netload_greater_than_amp:\n",
    "    #            df_netload.set_value(row, 'count1', df_netload.at[previous_row,'count1']+1)\n",
    "                try: df_netload.at[row, 'count1']= df_netload.at[previous_row,'count1']+1\n",
    "                except KeyError as e:\n",
    "                    print(row,amp)\n",
    "                    print(df_netload.at[row, 'count1'])\n",
    "                    print(df_netload.at[previous_row, 'count1'])\n",
    "                    raise e\n",
    "            elif amp_negative and netload_smaller_than_amp:\n",
    "    #            df_netload.set_value(row, 'count1', df_netload.at[previous_row,'count1']+1)\n",
    "                try: df_netload.at[row, 'count1']= df_netload.at[previous_row,'count1']+1\n",
    "                except KeyError as e:\n",
    "                    print(row,amp)\n",
    "                    print(df_netload.at[row, 'count1'])\n",
    "                    print(df_netload.at[previous_row, 'count1'])\n",
    "                    raise e\n",
    "    # spara sedan varje periods längd vid sluttillfället\n",
    "            if amp_positive and previous_netload_greater_than_amp and netload_smaller_than_amp:\n",
    "    #            df_netload.set_value(previous_row, 'count2', df_netload.at[previous_row,'count1'])\n",
    "                df_netload.at[previous_row, 'count2']= df_netload.at[previous_row,'count1']\n",
    "            elif amp_negative and previous_netload_smaller_than_amp and netload_greater_than_amp:\n",
    "    #            df_netload.set_value(previous_row, 'count2', df_netload.at[previous_row,'count1'])\n",
    "                df_netload.at[previous_row, 'count2']= df_netload.at[previous_row,'count1']\n",
    "            previous_row=row\n",
    "            previous_net_load_val = net_load_val\n",
    "        # this sets the recurrence by counting the durations for each amplitude\n",
    "        s=df_netload.count2.value_counts()\n",
    "        df_freq=pd.DataFrame(data=s)\n",
    "    #    s_form=list(s)\n",
    "        output[amp]=df_freq\n",
    "    #df_out=pd.DataFrame(data=output, index=[amp])\n",
    "    #df_out = pd.DataFrame()\n",
    "    print(f\"time to build df_freq for all amps = {round(timer() - start_time,1)}\")\n",
    "    start_time = timer()\n",
    "    df_out_tot = pd.DataFrame()\n",
    "    #output2 = {}\n",
    "    for amp in amps:\n",
    "        df_out = output[amp]\n",
    "        df_out = df_out.iloc[1:]\n",
    "        df_out.index.name = 'Duration'\n",
    "        df_out = pd.concat([df_out], keys=[amp], names=['Amplitude'])\n",
    "        df_out.rename(columns={'count2':'Occurences'}, inplace=True)\n",
    "        df_out_tot=df_out_tot.append(df_out)\n",
    "    #    output2[amp] = df_out\n",
    "    #df_out[0]\n",
    "    print(f\"time to build df_out_tot = {round(timer() - start_time,1)}\")\n",
    "    return df_out_tot\n",
    "\n",
    "\n",
    "year = \"1980-2019\"#1981\n",
    "#data = pickle.load(open(\"PickleJar\\\\netload_components_1980-2019.pickle\",\"rb\"))\n",
    "data = pickle.load(open(f\"PickleJar\\\\netload_components_{year}.pickle\",\"rb\"))\n",
    "print(data.keys())\n",
    "VRE_profiles = data[\"VRE_profiles\"]\n",
    "load = data[\"load\"]\n",
    "cap = data[\"cap\"]\n",
    "#VRE_profiles\n",
    "#load\n",
    "#cap\n",
    "if type(load)==dict:\n",
    "    load_list = []\n",
    "    for year, load in load.items():\n",
    "        load_list += list(load)\n",
    "    load = np.array(load_list)\n",
    "if load.ndim > 1:\n",
    "    load = load.sum(axis=1)\n",
    "\n",
    "net_load = -(VRE_profiles*cap).sum(axis=1) + load\n",
    "print(VRE_profiles.shape, net_load.shape, cap.shape)"
   ]
  },
  {
   "cell_type": "code",
   "execution_count": 7,
   "id": "38a8a6d5-b15a-48dc-b02a-ec87a17fc74a",
   "metadata": {},
   "outputs": [
    {
     "name": "stdout",
     "output_type": "stream",
     "text": [
      "             net load  count1  count2\n",
      "1980 h0001  81.826075       0       0\n",
      "     h0002  81.826075       0       0\n",
      "     h0003  81.826075       0       0\n",
      "     h0004  81.826075       0       0\n",
      "     h0005  83.346753       0       0\n",
      "...               ...     ...     ...\n",
      "2019 h8756  41.777686       0       0\n",
      "     h8757  42.810959       0       0\n",
      "     h8758  45.166556       0       0\n",
      "     h8759  49.262306       0       0\n",
      "     h8760  56.253283       0       0\n",
      "\n",
      "[350640 rows x 3 columns] -118 186\n"
     ]
    }
   ],
   "source": [
    "#net_load=((-1)*df_disp['bat_ch'])\n",
    "#net_load=(df_disp['WG_peak'])\n",
    "#d = {'net load': net_load,'count1':0,'count2':0}\n",
    "#df_netload = fast_rolling_average(pd.DataFrame(data=d),1)\n",
    "array_netload = fast_rolling_average(net_load,12)\n",
    "df_netload = pd.DataFrame(data={'net load': array_netload,'count1':0,'count2':0})\n",
    "#maxind, maxval = max(net_load, key=lambda item: item[1])\n",
    "maxval=int(math.ceil(df_netload[\"net load\"].max()))\n",
    "minval=int(math.floor(df_netload[\"net load\"].min()))\n",
    "print(df_netload, minval,maxval)"
   ]
  },
  {
   "cell_type": "code",
   "execution_count": 8,
   "outputs": [],
   "source": [
    "#df_netload is a pandas dataframe with multiindex and 3 columns\n",
    "#i want to collapse the multiindex and replace it with just a number range\n",
    "#df_netload = df_netload.reset_index()[[\"net load\", \"count1\", \"count2\"]]\n",
    "#df_netload.at[2632,\"count1\"]"
   ],
   "metadata": {
    "collapsed": false,
    "pycharm": {
     "name": "#%%\n"
    }
   }
  },
  {
   "cell_type": "code",
   "execution_count": 9,
   "id": "f130bd58-be65-45a9-a43a-0111c565447a",
   "metadata": {
    "tags": []
   },
   "outputs": [
    {
     "name": "stdout",
     "output_type": "stream",
     "text": [
      "index =  MultiIndex([(1980, 'h0001'),\n",
      "            (1980, 'h0002'),\n",
      "            (1980, 'h0003'),\n",
      "            (1980, 'h0004'),\n",
      "            (1980, 'h0005'),\n",
      "            (1980, 'h0006'),\n",
      "            (1980, 'h0007'),\n",
      "            (1980, 'h0008'),\n",
      "            (1980, 'h0009'),\n",
      "            (1980, 'h0010'),\n",
      "            ...\n",
      "            (2019, 'h8751'),\n",
      "            (2019, 'h8752'),\n",
      "            (2019, 'h8753'),\n",
      "            (2019, 'h8754'),\n",
      "            (2019, 'h8755'),\n",
      "            (2019, 'h8756'),\n",
      "            (2019, 'h8757'),\n",
      "            (2019, 'h8758'),\n",
      "            (2019, 'h8759'),\n",
      "            (2019, 'h8760')],\n",
      "           length=350640)\n",
      "vals =  [81.82607498 81.82607498 81.82607498 ... 45.16655634 49.26230624\n",
      " 56.25328274]\n",
      "len of vals =  350640\n",
      "length of amps: 152\n",
      "time to build df_freq for all amps = 472.9\n",
      "time to build df_out_tot = 0.3\n",
      "elapsed time = 473.2\n",
      "                    Occurences\n",
      "Amplitude Duration            \n",
      "-116      2                  1\n",
      "-114      3                  2\n",
      "-112      4                  2\n",
      "-110      5                  1\n",
      "          4                  1\n",
      "...                        ...\n",
      " 182      5                  1\n",
      "          4                  1\n",
      "          1                  1\n",
      " 184      3                  1\n",
      "          2                  1\n",
      "\n",
      "[15494 rows x 1 columns]\n"
     ]
    }
   ],
   "source": [
    "amp_length = 1\n",
    "pickle_read_name = \"\"\n",
    "pickle_dump_name = rf\"PickleJar\\1980-2019_CFD_netload_df_amp{amp_length}.pickle\"\n",
    "if pickle_read_name:\n",
    "    df_out_tot = pickle.load(open(pickle_read_name,\"rb\"))\n",
    "else:\n",
    "    start_time = timer()\n",
    "    df_out_tot = fast_cfd(df_netload, amp_length=amp_length) # 248s at 1 year then more changes and now 156-157s at 1 year\n",
    "    end_time = timer()\n",
    "    print(f\"elapsed time = {round(end_time - start_time,1)}\")\n",
    "print(df_out_tot)"
   ]
  },
  {
   "cell_type": "code",
   "execution_count": 10,
   "outputs": [],
   "source": [
    "if pickle_dump_name: pickle.dump(df_out_tot, open(pickle_dump_name,'wb'))\n"
   ],
   "metadata": {
    "collapsed": false
   }
  },
  {
   "cell_type": "code",
   "execution_count": 126,
   "id": "ea5b2713-5d4a-4481-8bdb-9d6e2da72b28",
   "metadata": {},
   "outputs": [
    {
     "name": "stdout",
     "output_type": "stream",
     "text": [
      "Empty DataFrame\n",
      "Columns: [Amplitude, Duration, Occurrence]\n",
      "Index: []\n",
      "\u001B[36mY = [  1   2   3   4   5   6   7   8   9  10  11  12  13  14  15  16  17  18\n",
      "  19  20  21  22  23  24  25  28  29  30  31  32  33  34  35  36  37  38\n",
      "  39  40  41  42  43  44  45  46  47  48  49  51  53  54  55  56  57  58\n",
      "  59  60  61  63  64  65  66  67  68  69  70  71  72  73  78  84  87  89\n",
      "  90  91  92  93  94  95  96  98 102 103 104 105 106 107 108 109 113 114\n",
      " 115 116 117 118 119 120 130 131 132 133 134 138 139 140 141 142 143 144\n",
      " 152 153 154 162 163 164 165 166 167 188 189 201 202 204 205 212 213 214\n",
      " 215 226 228 229 230 235 236 237 238 239 260 261 262 312 331 332 333 334\n",
      " 347 348 356 357 358 359 380 381 383 405 406 407 408 500 549 574 597 619] (162,)\u001B[0m\n",
      "\u001B[31mZ = [[ 1. nan nan ... nan nan nan]\n",
      " [ 1. nan nan ... nan nan nan]\n",
      " [ 1. nan nan ... nan nan nan]\n",
      " ...\n",
      " [nan  1. nan ... nan nan nan]\n",
      " [nan  1. nan ... nan nan nan]\n",
      " [nan  1. nan ... nan nan nan]]\u001B[0m\n",
      "[2.451e+03 3.769e+03 4.164e+03 4.252e+03 3.770e+03 2.628e+03 1.729e+03\n",
      " 7.790e+02 4.740e+02 2.760e+02 2.130e+02 2.420e+02 5.870e+02 1.273e+03\n",
      " 2.466e+03 2.561e+03 3.126e+03 2.996e+03 2.521e+03 1.799e+03 9.960e+02\n",
      " 4.090e+02 1.200e+02 4.900e+01 5.000e+00 5.000e+00 2.200e+01 4.700e+01\n",
      " 4.300e+01 5.500e+01 3.700e+01 3.200e+01 2.500e+01 6.000e+00 3.000e+00\n",
      " 6.000e+00 5.000e+00 2.900e+01 5.700e+01 1.970e+02 2.600e+02 3.650e+02\n",
      " 2.810e+02 1.610e+02 3.900e+01 3.000e+00 1.000e+00 1.000e+00 1.800e+01\n",
      " 2.000e+01 1.600e+01 3.600e+01 3.800e+01 2.100e+01 1.300e+01 9.000e+00\n",
      " 1.000e+00 1.000e+00 2.000e+00 6.000e+00 7.000e+01 1.210e+02 2.040e+02\n",
      " 1.640e+02 7.500e+01 3.000e+01 4.000e+00 3.000e+00 1.000e+00 1.000e+00\n",
      " 2.000e+00 1.700e+01 9.000e+00 2.900e+01 1.350e+02 3.100e+01 3.200e+01\n",
      " 4.000e+00 2.000e+00 1.000e+00 1.100e+01 2.000e+00 1.000e+01 2.000e+00\n",
      " 1.000e+00 2.000e+00 2.000e+00 2.000e+00 6.000e+00 5.000e+00 4.600e+01\n",
      " 7.800e+01 7.000e+01 2.900e+01 3.000e+00 8.000e+00 5.000e+00 6.000e+00\n",
      " 1.000e+00 2.000e+00 1.000e+00 2.000e+00 1.200e+01 5.200e+01 2.500e+01\n",
      " 4.600e+01 2.000e+00 3.000e+00 9.000e+00 4.000e+00 3.000e+00 7.000e+00\n",
      " 4.000e+00 4.700e+01 2.500e+01 7.000e+00 6.000e+00 3.000e+00 1.300e+01\n",
      " 1.000e+00 4.000e+00 2.000e+00 6.000e+00 4.000e+00 2.700e+01 1.600e+01\n",
      " 6.000e+00 4.000e+00 1.000e+00 1.000e+00 1.000e+00 1.600e+01 2.500e+01\n",
      " 4.900e+01 3.000e+00 3.000e+00 2.700e+01 3.000e+00 1.000e+01 2.000e+00\n",
      " 2.000e+00 1.000e+01 2.300e+01 1.200e+01 1.000e+01 2.000e+00 6.000e+00\n",
      " 2.900e+01 7.000e+00 8.000e+00 1.300e+01 5.000e+00 2.000e+00 1.000e+01\n",
      " 1.000e+01 3.000e+00 8.000e+00 1.000e+00 6.000e+00 2.000e+00 3.000e+00\n",
      " 3.000e+00] (162,)\n"
     ]
    }
   ],
   "source": [
    "df_reset = df_out_tot.reset_index()\n",
    "df_reset.columns = ['Amplitude', 'Duration', 'Occurrence']\n",
    "df_pivot=df_reset.pivot('Amplitude', 'Duration')\n",
    "#print(df_reset)\n",
    "filtered_df = df_reset[df_reset['Amplitude'].round(1) == 25.5]\n",
    "print(filtered_df)\n",
    "#print(df_pivot.max(axis=1, skipna=True))\n",
    "df_reset[\"Energy\"] = df_reset[\"Amplitude\"]*df_reset[\"Duration\"]*np.sign(df_reset[\"Amplitude\"])\n",
    "from scipy.signal import argrelextrema, find_peaks, argrelmax\n",
    "#find each unique value and its index from dataframe array\n",
    "unique_amps, unique_amps_index = np.unique(df_reset[\"Amplitude\"],return_index=True)\n",
    "#print(df_pivot[df_pivot.columns[df_pivot.columns.get_level_values(1) > 375]].to_string())\n",
    "#print(df_pivot[df_pivot.columns[df_pivot.columns.get_level_values(1) > 1300]].fillna(0)[df_pivot != 0])\n",
    "#print(df_pivot[df_pivot[\"Duration\"] >1300].fillna(0).sum())\n",
    "Y=df_pivot.columns.levels[1].values\n",
    "X=df_pivot.index.values\n",
    "Z=df_pivot.values\n",
    "print_cyan(\"Y =\", Y, Y.shape)\n",
    "#print_green(\"X =\", X, X.shape)\n",
    "print_red(\"Z =\", Z)\n",
    "#df1['A'] = df1['A'].apply(lambda x: [y if y <= 9 else 11 for y in x])\n",
    "Znetload=np.where(Z > 50, 50, Z)\n",
    "Ynetload,Xnetload = np.meshgrid(Y, X)\n",
    "import scipy.io\n",
    "scipy.io.savemat(f\"output\\\\heatmap_values_{year}\", {\"amplitude\":Ynetload, \"duration\":Xnetload, \"recurrance\":Znetload})\n",
    "#print({\"amplitude\":Xnetload, \"duration\":Ynetload, \"recurrance\":Znetload})\n",
    "Z_testing = np.nan_to_num(Znetload)\n",
    "print(Z_testing.sum(axis=0), Z_testing.sum(axis=0).shape)"
   ]
  },
  {
   "cell_type": "code",
   "execution_count": 135,
   "id": "0b2a677d-16b1-45dc-9018-a8006faecf28",
   "metadata": {},
   "outputs": [
    {
     "data": {
      "text/plain": "<Figure size 432x288 with 1 Axes>",
      "image/png": "[encoded data removed]"
     },
     "metadata": {
      "needs_background": "light"
     },
     "output_type": "display_data"
    }
   ],
   "source": [
    "plt.contourf(Xnetload, Ynetload, Znetload, alpha=0.7, cmap=plt.cm.jet,antialiased=False)\n",
    "plt.savefig(f\"figures\\\\cfd_{year}_fastfunc.png\",dpi=800)\n",
    "\n",
    "#plt.show()"
   ]
  },
  {
   "cell_type": "code",
   "execution_count": 151,
   "id": "c98f7d15-c439-4707-af03-ac7a1fcb7944",
   "metadata": {},
   "outputs": [
    {
     "data": {
      "text/plain": "<Figure size 432x288 with 1 Axes>",
      "image/png": "[encoded data removed]"
     },
     "metadata": {
      "needs_background": "light"
     },
     "output_type": "display_data"
    }
   ],
   "source": [
    "import matplotlib as mpl\n",
    "#mpl.rcParams[\"patch.force_edgecolor\"]=True\n",
    "plt.pcolormesh(Xnetload,Ynetload,Znetload, alpha=1,linewidth=0, shading='nearest', cmap=plt.cm.jet)#, alpha=0.7)\n",
    "plt.savefig(f\"figures\\\\cfd_{year}_fastfunc2.png\",dpi=800)"
   ]
  },
  {
   "cell_type": "code",
   "execution_count": 30,
   "id": "7ea28066",
   "metadata": {},
   "outputs": [],
   "source": []
  }
 ],
 "metadata": {
  "kernelspec": {
   "display_name": "Python 3",
   "language": "python",
   "name": "python3"
  },
  "language_info": {
   "codemirror_mode": {
    "name": "ipython",
    "version": 3
   },
   "file_extension": ".py",
   "mimetype": "text/x-python",
   "name": "python",
   "nbconvert_exporter": "python",
   "pygments_lexer": "ipython3",
   "version": "3.6.13"
  }
 },
 "nbformat": 4,
 "nbformat_minor": 5
}