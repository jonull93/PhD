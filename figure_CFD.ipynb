{
 "cells": [
  {
   "cell_type": "code",
   "execution_count": 33,
   "id": "8a7d779c-b52a-4bab-bd84-915de4d1a96e",
   "metadata": {},
   "outputs": [
    {
     "name": "stdout",
     "output_type": "stream",
     "text": [
      "(8784, 120) (8784, 6) (51,)\n"
     ]
    },
    {
     "data": {
      "text/plain": "0       105.020281\n1       106.067851\n2       106.343220\n3       109.522208\n4       117.309409\n           ...    \n8779     85.915130\n8780     75.618221\n8781     66.263747\n8782     58.806286\n8783     55.914148\nLength: 8784, dtype: float64"
     },
     "execution_count": 33,
     "metadata": {},
     "output_type": "execute_result"
    }
   ],
   "source": [
    "import pickle\n",
    "import math\n",
    "import pandas as pd\n",
    "import numpy as np\n",
    "from timeit import default_timer as timer\n",
    "from my_utils import print_red, print_cyan, print_green\n",
    "\n",
    "\"\"\"\n",
    "Inputs:\n",
    "df of net load\n",
    "\n",
    "Outputs:\n",
    "CFD plot and VRE event df for fingerprint matching\n",
    "\"\"\"\n",
    "\n",
    "def fast_cfd(df_netload):\n",
    "    #kolla på diffen av detta\n",
    "    df_freq = pd.DataFrame()\n",
    "    output = {}\n",
    "    dfrows=df_netload.index\n",
    "    net_loads_array = np.array(df_netload[\"net load\"].values)\n",
    "    for amp in amps:\n",
    "        # initiate variables before row loop\n",
    "        d = {'net load': net_load,'count1':0,'count2':0}\n",
    "        df_netload = pd.DataFrame(data=d)\n",
    "        previous_row = dfrows[0]\n",
    "        previous_net_load_val = net_loads_array[0]\n",
    "        amp_positive = amp>=0\n",
    "        amp_negative = not amp_positive\n",
    "        for i_r, row in enumerate(dfrows):\n",
    "            #net_load_val = df_netload.at[row,'net load']\n",
    "            net_load_val = net_loads_array[i_r]\n",
    "            netload_greater_than_amp = net_load_val>=amp\n",
    "            netload_smaller_than_amp = not netload_greater_than_amp\n",
    "            previous_netload_greater_than_amp = previous_net_load_val>=amp\n",
    "            previous_netload_smaller_than_amp = not previous_netload_greater_than_amp\n",
    "            if amp_positive and netload_greater_than_amp:\n",
    "    #            df_netload.set_value(row, 'count1', df_netload.at[previous_row,'count1']+1)\n",
    "                df_netload.at[row, 'count1']= df_netload.at[previous_row,'count1']+1\n",
    "            elif amp_negative and netload_smaller_than_amp:\n",
    "    #            df_netload.set_value(row, 'count1', df_netload.at[previous_row,'count1']+1)\n",
    "                df_netload.at[row, 'count1']= df_netload.at[previous_row,'count1']+1\n",
    "    #varje periods längd vid sluttillfället\n",
    "            if amp_positive and previous_netload_greater_than_amp and netload_smaller_than_amp:\n",
    "    #            df_netload.set_value(previous_row, 'count2', df_netload.at[previous_row,'count1'])\n",
    "                df_netload.at[previous_row, 'count2']= df_netload.at[previous_row,'count1']\n",
    "            elif amp_negative and previous_netload_smaller_than_amp and netload_greater_than_amp:\n",
    "    #            df_netload.set_value(previous_row, 'count2', df_netload.at[previous_row,'count1'])\n",
    "                df_netload.at[previous_row, 'count2']= df_netload.at[previous_row,'count1']\n",
    "            previous_row=row\n",
    "            previous_net_load_val = net_load_val\n",
    "\n",
    "        s=df_netload.count2.value_counts()\n",
    "        df_freq=pd.DataFrame(data=s)\n",
    "    #    s_form=list(s)\n",
    "        output[amp]=df_freq\n",
    "    #df_out=pd.DataFrame(data=output, index=[amp])\n",
    "    #df_out = pd.DataFrame()\n",
    "    df_out_tot = pd.DataFrame()\n",
    "    #output2 = {}\n",
    "    for amp in amps:\n",
    "        df_out = output[amp]\n",
    "        df_out = df_out.iloc[1:]\n",
    "        df_out.index.name = 'Duration'\n",
    "        df_out = pd.concat([df_out], keys=[amp], names=['Amplitude'])\n",
    "        df_out.rename(columns={'count2':'Occurences'}, inplace=True)\n",
    "        df_out_tot=df_out_tot.append(df_out)\n",
    "    #    output2[amp] = df_out\n",
    "    #df_out[0]\n",
    "    return df_out_tot\n",
    "\n",
    "\n",
    "def slow_cfd(df_netload):\n",
    "    #kolla på diffen av detta\n",
    "    df_freq = pd.DataFrame()\n",
    "    output = {}\n",
    "    for amp in amps:\n",
    "        d = {'net load': net_load,'count1':0,'count2':0}\n",
    "        df_netload = pd.DataFrame(data=d)\n",
    "        s=[]\n",
    "        dfrows=df_netload.index ## att plocka ut .index i förväg är toppen, men kan göras utanför loopen\n",
    "        rowbefore=dfrows[0]\n",
    "    #ökande siffra när värde över amp\n",
    "        for row in dfrows:\n",
    "            ## 1: (detta sparade ca 90s per år)\n",
    "            ## det är generellt långsamt att läsa och ändra värden i en DataFrame jämfört med listor eller arrays\n",
    "            ## -> bäst att försöka läsa värden från df så få gånger så möjligt\n",
    "            ## vi kan spara df_netload[\"net load\"].values i en lista eller array i förväg och läsa därifrån istället\n",
    "            ## net_loads_array = np.array(df_netload[\"net load\"].values)\n",
    "            ## så kan vi läsa ut varje rads netload genom net_loads_array[i]\n",
    "            ##\n",
    "            ## 2: (detta sparade ca 250s per år, varav det absolut mesta från den första delen)\n",
    "            ## a) i if-satserna letar vi efter netload[row] flera gånger (och för varje amp) trots att det är samma värde varje gång\n",
    "            ## snabbare att för varje row spara undan net_load_val=net_loads_array[i] och använda det timvärdet direkt\n",
    "            ## b) vi kan också göra jämförelserna amp>0 etc en gång och spara True/False istället för att utvärdera olikheten flera gånger\n",
    "            ## netload_greater_than_amp = net_load_val>=amp\n",
    "            ## och sedan\n",
    "            ## if amp_positive and netload_greater_than_amp:\n",
    "            if amp>0 and df_netload.at[row,'net load']>amp:\n",
    "    #            df_netload.set_value(row, 'count1', df_netload.at[rowbefore,'count1']+1)\n",
    "                df_netload.at[row, 'count1']= df_netload.at[rowbefore,'count1']+1\n",
    "            elif amp<0 and df_netload.at[row,'net load']<amp:\n",
    "    #            df_netload.set_value(row, 'count1', df_netload.at[rowbefore,'count1']+1)\n",
    "                df_netload.at[row, 'count1']= df_netload.at[rowbefore,'count1']+1\n",
    "            rowbefore=row\n",
    "\n",
    "        rowbefore=dfrows[0]\n",
    "    #varje periods längd vid sluttillfället\n",
    "        for row in dfrows:\n",
    "            if amp >0 and df_netload.at[rowbefore,'net load']>amp and df_netload.at[row,'net load']<amp:\n",
    "    #            df_netload.set_value(rowbefore, 'count2', df_netload.at[rowbefore,'count1'])\n",
    "                df_netload.at[rowbefore, 'count2']= df_netload.at[rowbefore,'count1']\n",
    "            elif amp<0 and df_netload.at[rowbefore,'net load']<amp and df_netload.at[row,'net load']>amp:\n",
    "    #            df_netload.set_value(rowbefore, 'count2', df_netload.at[rowbefore,'count1'])\n",
    "                df_netload.at[rowbefore, 'count2']= df_netload.at[rowbefore,'count1']\n",
    "            rowbefore=row\n",
    "\n",
    "        s=df_netload.count2.value_counts()\n",
    "        df_freq=pd.DataFrame(data=s)\n",
    "    #    s_form=list(s)\n",
    "        output[amp]=df_freq\n",
    "    #df_out=pd.DataFrame(data=output, index=[amp])\n",
    "    #df_out = pd.DataFrame()\n",
    "    df_out_tot = pd.DataFrame()\n",
    "    #output2 = {}\n",
    "    for amp in amps:\n",
    "        df_out = output[amp]\n",
    "        df_out = df_out.iloc[1:]\n",
    "        df_out.index.name = 'Duration'\n",
    "        df_out = pd.concat([df_out], keys=[amp], names=['Amplitude'])\n",
    "        df_out.rename(columns={'count2':'Occurences'}, inplace=True)\n",
    "        df_out_tot=df_out_tot.append(df_out)\n",
    "    #    output2[amp] = df_out\n",
    "    #df_out[0]\n",
    "    return df_out_tot\n",
    "\n",
    "\n",
    "#data = pickle.load(open(\"PickleJar\\\\netload_components_1980-2019.pickle\",\"rb\"))\n",
    "data = pickle.load(open(\"PickleJar\\\\netload_components_1980.pickle\",\"rb\"))\n",
    "VRE_profiles = data[\"VRE_profiles\"]\n",
    "load = data[\"load\"]\n",
    "cap = data[\"cap\"]\n",
    "print(VRE_profiles.shape, load.shape, cap.shape)\n",
    "#VRE_profiles\n",
    "#load\n",
    "#cap\n",
    "if type(load)==dict:\n",
    "    load_list = []\n",
    "    for year, load in load.items():\n",
    "        load_list += list(load)\n",
    "    load = np.array(load_list)\n",
    "net_load = -(VRE_profiles*cap).sum(axis=1) + load.sum(axis=1)\n",
    "net_load"
   ]
  },
  {
   "cell_type": "code",
   "execution_count": 23,
   "id": "38a8a6d5-b15a-48dc-b02a-ec87a17fc74a",
   "metadata": {},
   "outputs": [
    {
     "name": "stdout",
     "output_type": "stream",
     "text": [
      "length of amps: 3370\n",
      "        net load  count1  count2\n",
      "0     105.020281       0       0\n",
      "1     106.067851       0       0\n",
      "2     106.343220       0       0\n",
      "3     109.522208       0       0\n",
      "4     117.309409       0       0\n",
      "...          ...     ...     ...\n",
      "8779   85.915130       0       0\n",
      "8780   75.618221       0       0\n",
      "8781   66.263747       0       0\n",
      "8782   58.806286       0       0\n",
      "8783   55.914148       0       0\n",
      "\n",
      "[8784 rows x 3 columns] -143 194\n"
     ]
    }
   ],
   "source": [
    "#net_load=((-1)*df_disp['bat_ch'])\n",
    "#net_load=(df_disp['WG_peak'])\n",
    "d = {'net load': net_load,'count1':0,'count2':0}\n",
    "df_netload = pd.DataFrame(data=d)\n",
    "#maxind, maxval = max(net_load, key=lambda item: item[1])\n",
    "maxval=int(math.ceil(net_load.max()))\n",
    "minval=int(math.floor(net_load.min()))\n",
    "amps = np.arange(minval, maxval, 0.1).tolist()\n",
    "print(\"length of amps:\",len(amps))\n",
    "print(df_netload, minval,maxval)"
   ]
  },
  {
   "cell_type": "code",
   "execution_count": 34,
   "id": "f130bd58-be65-45a9-a43a-0111c565447a",
   "metadata": {
    "tags": []
   },
   "outputs": [
    {
     "name": "stdout",
     "output_type": "stream",
     "text": [
      "elapsed time = 155.6\n"
     ]
    }
   ],
   "source": [
    "pickle_read_name = \"\"\n",
    "pickle_dump_name = r\"PickleJar\\1980-2019_CFD_netload_df.pickle\"\n",
    "if pickle_read_name:\n",
    "    df_out_tot = pickle.load(open())\n",
    "else:\n",
    "    start_time = timer()\n",
    "    df_out_tot = fast_cfd(df_netload) # 248s at 1 year then more changes and now 156-157s at 1 year\n",
    "    #df_out_tot = slow_cfd(df_netload) # 500-523s at 1 year\n",
    "    end_time = timer()\n",
    "    print(f\"elapsed time = {round(end_time - start_time,1)}\")"
   ]
  },
  {
   "cell_type": "code",
   "execution_count": 5,
   "outputs": [],
   "source": [
    "if pickle_dump_name: pickle.dump(df_out_tot, open(pickle_dump_name,'wb'))"
   ],
   "metadata": {
    "collapsed": false,
    "pycharm": {
     "name": "#%%\n"
    }
   }
  },
  {
   "cell_type": "code",
   "execution_count": 29,
   "id": "ea5b2713-5d4a-4481-8bdb-9d6e2da72b28",
   "metadata": {},
   "outputs": [],
   "source": [
    "df_reset = df_out_tot.reset_index()\n",
    "df_reset.columns = ['Amplitude', 'Duration', 'Occurrence']\n",
    "df_pivot=df_reset.pivot('Amplitude', 'Duration')\n",
    "\n",
    "X=df_pivot.columns.levels[1].values\n",
    "Y=df_pivot.index.values\n",
    "Z=df_pivot.values\n",
    "#df1['A'] = df1['A'].apply(lambda x: [y if y <= 9 else 11 for y in x])\n",
    "Znetload=np.where(Z > 50, 50, Z)\n",
    "Xnetload,Ynetload = np.meshgrid(X, Y)\n"
   ]
  },
  {
   "cell_type": "code",
   "execution_count": 30,
   "id": "0b2a677d-16b1-45dc-9018-a8006faecf28",
   "metadata": {},
   "outputs": [
    {
     "data": {
      "text/plain": "<Figure size 432x288 with 1 Axes>",
      "image/png": "[encoded data removed]"
     },
     "metadata": {
      "needs_background": "light"
     },
     "output_type": "display_data"
    }
   ],
   "source": [
    "import matplotlib.pyplot as plt\n",
    "plt.contourf(Ynetload, Xnetload, Znetload, alpha=0.7, cmap=plt.cm.jet);\n",
    "#plt.show()"
   ]
  },
  {
   "cell_type": "code",
   "execution_count": 28,
   "id": "c98f7d15-c439-4707-af03-ac7a1fcb7944",
   "metadata": {},
   "outputs": [
    {
     "data": {
      "text/plain": "<Figure size 432x288 with 0 Axes>"
     },
     "metadata": {},
     "output_type": "display_data"
    }
   ],
   "source": [
    "plt.savefig(\"figures\\\\cfd_1980_fastfunc.png\")"
   ]
  },
  {
   "cell_type": "code",
   "execution_count": null,
   "id": "7ea28066",
   "metadata": {},
   "outputs": [],
   "source": []
  }
 ],
 "metadata": {
  "kernelspec": {
   "display_name": "Python 3",
   "language": "python",
   "name": "python3"
  },
  "language_info": {
   "codemirror_mode": {
    "name": "ipython",
    "version": 3
   },
   "file_extension": ".py",
   "mimetype": "text/x-python",
   "name": "python",
   "nbconvert_exporter": "python",
   "pygments_lexer": "ipython3",
   "version": "3.6.13"
  }
 },
 "nbformat": 4,
 "nbformat_minor": 5
}